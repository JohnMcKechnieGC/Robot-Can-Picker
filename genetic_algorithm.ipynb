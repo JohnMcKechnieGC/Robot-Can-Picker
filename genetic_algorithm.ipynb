{
 "cells": [
  {
   "cell_type": "code",
   "execution_count": 2,
   "id": "c74075ca",
   "metadata": {},
   "outputs": [],
   "source": [
    "from random import randint, random, sample\n",
    "from statistics import mean, stdev\n",
    "from Problem_Domain.environment import Environment\n",
    "from Robots.lookup_table_robot import LookupTableRobot"
   ]
  },
  {
   "cell_type": "code",
   "execution_count": 12,
   "id": "ed247563",
   "metadata": {},
   "outputs": [],
   "source": [
    "LOOKUP_TABLE_SIZE = 243\n",
    "NUMBER_OF_TRIALS_PER_EVALUATION = 10\n",
    "NUMBER_OF_ACTIONS_PER_TRIAL = 200\n",
    "POPULATION_SIZE = 200\n",
    "NUMBER_OF_GENERATIONS = 5 #1000\n",
    "TOURNAMENT_SIZE = 4\n",
    "EXPECTED_NO_OF_MUTATIONS_PER_CHILD = 2\n",
    "MUTATION_RATE = EXPECTED_NO_OF_MUTATIONS_PER_CHILD/LOOKUP_TABLE_SIZE"
   ]
  },
  {
   "cell_type": "code",
   "execution_count": null,
   "id": "aeb0ef60",
   "metadata": {},
   "outputs": [],
   "source": [
    "def random_action():\n",
    "    return randint(0, 6)"
   ]
  },
  {
   "cell_type": "code",
   "execution_count": 4,
   "id": "0857f860",
   "metadata": {},
   "outputs": [],
   "source": [
    "def select_parent(fitnesses):\n",
    "    candidates = sample(range(len(fitnesses)), TOURNAMENT_SIZE)\n",
    "    candidate_fitnesses = [fitnesses[i] for i in candidates]\n",
    "    selected_parent = candidates[candidate_fitnesses.index(\n",
    "        max(candidate_fitnesses))]\n",
    "    return selected_parent"
   ]
  },
  {
   "cell_type": "code",
   "execution_count": 5,
   "id": "11f0e161",
   "metadata": {},
   "outputs": [],
   "source": [
    "def crossover(parent1, parent2):\n",
    "    crossover_point = randint(0, len(parent1) - 1)\n",
    "    child1 = parent1[:crossover_point]\n",
    "    child1.extend(parent2[crossover_point:])\n",
    "    child2 = parent2[:crossover_point]\n",
    "    child2.extend(parent1[crossover_point:])\n",
    "    return child1, child2"
   ]
  },
  {
   "cell_type": "code",
   "execution_count": 6,
   "id": "7688ab5f",
   "metadata": {},
   "outputs": [],
   "source": [
    "def mutate(lookup_table):\n",
    "    for i in range(len(lookup_table)):\n",
    "        if random() < MUTATION_RATE:\n",
    "            lookup_table[i] = random_action()"
   ]
  },
  {
   "cell_type": "code",
   "execution_count": 7,
   "id": "a8949a76",
   "metadata": {},
   "outputs": [],
   "source": [
    "def random_individual():\n",
    "    individual = [random_action() for _ in range(LOOKUP_TABLE_SIZE)]\n",
    "    return individual"
   ]
  },
  {
   "cell_type": "code",
   "execution_count": 8,
   "id": "2f6b05f0",
   "metadata": {},
   "outputs": [],
   "source": [
    "def evaluate(lookup_table, seeds):\n",
    "    robot = LookupTableRobot(action_lookup_table=lookup_table)\n",
    "    total_score = 0\n",
    "    for i in range(NUMBER_OF_TRIALS_PER_EVALUATION):\n",
    "        environment = Environment(random_seed=seeds[i])\n",
    "        robot.set_environment(environment)\n",
    "        environment.set_robot(robot)\n",
    "        for _ in range(NUMBER_OF_ACTIONS_PER_TRIAL):\n",
    "            action = robot.choose_action()\n",
    "            environment.perform_action(action)\n",
    "        total_score += robot.score\n",
    "    return total_score / NUMBER_OF_TRIALS_PER_EVALUATION"
   ]
  },
  {
   "cell_type": "code",
   "execution_count": 9,
   "id": "28943817",
   "metadata": {},
   "outputs": [],
   "source": [
    "def get_next_generation(current_generation, fitnesses):\n",
    "    next_generation = []\n",
    "    while len(next_generation) < POPULATION_SIZE:\n",
    "        parent1 = current_generation[select_parent(fitnesses)]\n",
    "        parent2 = current_generation[select_parent(fitnesses)]\n",
    "        child1, child2 = crossover(parent1, parent2)\n",
    "        mutate(child1)\n",
    "        mutate(child2)\n",
    "        next_generation.append(child1)\n",
    "        next_generation.append(child2)\n",
    "    return next_generation"
   ]
  },
  {
   "cell_type": "code",
   "execution_count": 13,
   "id": "eec7940f",
   "metadata": {},
   "outputs": [],
   "source": [
    "# Generate the initial random population\n",
    "population = [random_individual() for _ in range(POPULATION_SIZE)]\n",
    "\n",
    "# Create a set of random seeds. This ensures that all individuals will be evaluated on the\n",
    "# same set of randomly generated environments.\n",
    "random_seeds = [randint(-2147483648, 2147483647)\n",
    "                for _ in range(NUMBER_OF_TRIALS_PER_EVALUATION)]\n",
    "\n",
    "# Calculate the fitness scores for each member of the population.\n",
    "fitness_scores = [evaluate(lookup_table, random_seeds)\n",
    "                  for lookup_table in population]\n",
    "\n",
    "# Note the best individual seen so far.\n",
    "best_fitness = max(fitness_scores)\n",
    "best_lookup_table = population[fitness_scores.index(best_fitness)]"
   ]
  },
  {
   "cell_type": "code",
   "execution_count": 14,
   "id": "bd9bce9b",
   "metadata": {},
   "outputs": [
    {
     "name": "stdout",
     "output_type": "stream",
     "text": [
      "Generation: 1, Best: -17.00, Mean: -322.38, Worst: -736.00, StDev: 154.11\n",
      "[1, 7, 6, 1, 4, 7, 4, 5, 5, 1, 2, 6, 2, 7, 5, 7, 7, 5, 2, 7, 4, 2, 6, 5, 7, 7, 4, 2, 4, 6, 6, 5, 7, 5, 3, 7, 4, 4, 1, 3, 1, 6, 1, 5, 5, 4, 4, 2, 2, 1, 1, 7, 6, 3, 6, 5, 5, 3, 7, 5, 3, 1, 7, 1, 1, 5, 3, 7, 5, 7, 1, 3, 2, 3, 2, 3, 3, 2, 4, 3, 1, 7, 6, 5, 3, 5, 5, 7, 4, 7, 1, 2, 1, 3, 6, 3, 5, 1, 1, 7, 1, 3, 3, 1, 4, 6, 3, 7, 7, 6, 3, 7, 7, 4, 4, 7, 1, 7, 4, 2, 1, 2, 6, 2, 5, 5, 3, 1, 5, 7, 2, 7, 2, 2, 2, 1, 6, 7, 6, 5, 7, 2, 2, 1, 6, 1, 4, 4, 7, 7, 1, 1, 6, 3, 4, 2, 4, 5, 7, 5, 4, 2, 1, 6, 2, 3, 6, 1, 2, 6, 5, 3, 4, 4, 5, 3, 7, 1, 5, 3, 4, 3, 5, 1, 2, 3, 2, 4, 5, 2, 2, 3, 4, 3, 1, 5, 5, 3, 1, 3, 4, 2, 4, 5, 4, 4, 3, 7, 3, 4, 5, 2, 7, 1, 5, 7, 2, 5, 3, 1, 6, 2, 4, 5, 6, 4, 3, 6, 3, 2, 2, 4, 1, 5, 6, 6, 3, 6, 4, 6, 3, 7, 6]\n",
      "Generation: 2, Best: 1.00, Mean: -228.39, Worst: -695.50, StDev: 155.31\n",
      "[3, 3, 7, 1, 1, 3, 3, 4, 7, 7, 3, 1, 1, 6, 2, 5, 5, 7, 7, 4, 1, 7, 5, 5, 6, 7, 3, 5, 3, 2, 7, 1, 1, 5, 1, 1, 6, 1, 6, 2, 5, 2, 6, 2, 7, 6, 7, 1, 7, 6, 2, 2, 1, 3, 7, 3, 5, 4, 4, 2, 4, 3, 1, 4, 6, 2, 4, 2, 5, 4, 1, 5, 4, 6, 6, 1, 5, 6, 2, 1, 5, 2, 3, 5, 4, 6, 7, 4, 4, 6, 3, 7, 3, 2, 3, 6, 7, 4, 1, 7, 2, 4, 5, 6, 2, 7, 2, 2, 1, 4, 7, 7, 3, 5, 3, 2, 7, 5, 2, 4, 5, 2, 7, 6, 3, 6, 1, 2, 4, 5, 4, 3, 6, 3, 7, 2, 7, 2, 7, 7, 6, 5, 1, 2, 7, 5, 4, 1, 3, 5, 6, 5, 2, 7, 6, 1, 6, 7, 5, 7, 4, 3, 6, 5, 4, 3, 4, 7, 5, 2, 4, 5, 6, 1, 3, 7, 2, 6, 3, 4, 5, 3, 1, 2, 4, 6, 7, 4, 1, 2, 3, 2, 1, 1, 6, 4, 3, 7, 5, 1, 4, 5, 3, 2, 5, 2, 5, 2, 5, 3, 4, 3, 2, 1, 7, 4, 5, 5, 4, 5, 1, 6, 7, 3, 1, 2, 1, 5, 6, 1, 4, 2, 3, 3, 4, 4, 4, 2, 6, 1, 4, 2, 4]\n",
      "Generation: 3, Best: 1.00, Mean: -151.49, Worst: -602.40, StDev: 108.52\n",
      "[7, 3, 4, 5, 7, 1, 2, 5, 3, 1, 4, 3, 6, 3, 5, 6, 7, 5, 2, 5, 7, 3, 7, 1, 4, 5, 7, 6, 2, 6, 3, 3, 6, 4, 7, 7, 5, 4, 1, 3, 6, 4, 2, 4, 7, 4, 2, 6, 1, 6, 7, 6, 3, 5, 1, 4, 2, 4, 6, 2, 6, 1, 1, 2, 5, 1, 7, 4, 4, 3, 2, 2, 5, 2, 7, 7, 1, 6, 6, 1, 4, 2, 5, 5, 7, 7, 2, 2, 4, 7, 2, 4, 7, 4, 7, 5, 1, 7, 3, 7, 4, 2, 6, 6, 3, 7, 7, 5, 2, 4, 3, 6, 5, 6, 1, 7, 7, 7, 4, 4, 2, 1, 6, 4, 7, 1, 5, 2, 5, 5, 5, 5, 6, 1, 1, 6, 2, 7, 1, 4, 7, 3, 7, 6, 1, 2, 1, 3, 6, 1, 5, 7, 3, 1, 4, 5, 6, 1, 2, 1, 2, 2, 7, 6, 3, 3, 7, 1, 2, 6, 3, 6, 2, 2, 2, 3, 7, 2, 2, 7, 3, 7, 3, 6, 2, 1, 1, 2, 3, 5, 1, 7, 2, 4, 5, 7, 6, 1, 2, 5, 6, 7, 5, 3, 7, 5, 2, 1, 2, 2, 7, 2, 6, 7, 1, 4, 1, 7, 5, 5, 3, 7, 7, 5, 5, 6, 3, 1, 4, 7, 3, 1, 4, 5, 1, 7, 5, 1, 1, 3, 6, 7, 5]\n",
      "Generation: 4, Best: 7.00, Mean: -172.23, Worst: -615.20, StDev: 132.66\n",
      "[7, 3, 4, 5, 7, 1, 2, 5, 3, 1, 3, 1, 4, 4, 3, 1, 4, 1, 1, 2, 7, 5, 5, 1, 4, 3, 7, 5, 2, 2, 2, 7, 5, 5, 6, 3, 2, 5, 4, 7, 1, 1, 6, 3, 1, 4, 6, 3, 2, 7, 1, 1, 4, 2, 7, 5, 5, 2, 5, 1, 2, 6, 3, 5, 7, 4, 5, 5, 3, 6, 7, 4, 3, 5, 5, 7, 7, 3, 2, 4, 4, 1, 6, 6, 5, 6, 6, 5, 6, 7, 2, 1, 6, 2, 3, 7, 7, 6, 6, 1, 5, 6, 2, 2, 7, 3, 5, 6, 6, 5, 3, 2, 7, 4, 7, 3, 3, 7, 5, 6, 5, 4, 4, 5, 6, 1, 6, 4, 5, 3, 4, 1, 6, 5, 4, 2, 6, 2, 3, 2, 6, 7, 3, 5, 4, 1, 6, 1, 6, 6, 7, 4, 2, 4, 3, 2, 7, 7, 6, 5, 5, 7, 1, 4, 7, 7, 2, 4, 3, 1, 1, 5, 3, 4, 5, 2, 4, 2, 1, 4, 7, 3, 4, 2, 7, 2, 3, 6, 7, 4, 4, 1, 2, 1, 2, 3, 7, 7, 7, 1, 5, 1, 6, 3, 1, 6, 1, 4, 3, 4, 7, 6, 5, 7, 1, 7, 2, 1, 7, 2, 5, 5, 2, 1, 1, 1, 1, 4, 5, 4, 5, 7, 7, 7, 6, 5, 4, 5, 4, 3, 7, 3, 7]\n",
      "Generation: 5, Best: 7.00, Mean: -59.96, Worst: -408.90, StDev: 69.88\n",
      "[4, 3, 4, 1, 1, 5, 5, 4, 5, 2, 7, 3, 3, 4, 3, 1, 4, 1, 1, 2, 7, 5, 5, 1, 7, 3, 7, 5, 2, 7, 1, 4, 4, 1, 6, 6, 4, 5, 7, 6, 3, 1, 4, 3, 1, 7, 7, 7, 3, 4, 5, 4, 6, 2, 3, 3, 2, 7, 7, 5, 3, 1, 7, 1, 1, 5, 3, 7, 5, 7, 1, 3, 2, 3, 2, 3, 3, 2, 4, 3, 1, 2, 2, 6, 3, 2, 1, 6, 3, 3, 7, 2, 4, 3, 6, 3, 6, 5, 1, 2, 1, 7, 6, 7, 1, 4, 5, 3, 5, 7, 4, 1, 2, 7, 7, 2, 7, 3, 7, 3, 1, 3, 5, 1, 6, 1, 5, 2, 6, 4, 1, 3, 5, 6, 5, 4, 7, 1, 1, 2, 2, 1, 3, 3, 7, 7, 2, 5, 2, 4, 7, 1, 2, 3, 7, 5, 6, 4, 3, 7, 2, 2, 4, 2, 1, 2, 1, 5, 7, 7, 7, 6, 3, 3, 3, 1, 3, 4, 3, 3, 2, 2, 1, 3, 7, 7, 3, 5, 6, 1, 7, 3, 5, 7, 7, 3, 3, 1, 7, 7, 4, 1, 5, 4, 6, 5, 3, 6, 5, 1, 6, 6, 4, 3, 3, 5, 1, 1, 6, 4, 1, 7, 2, 2, 5, 2, 1, 7, 6, 5, 3, 1, 4, 5, 2, 1, 3, 4, 7, 7, 7, 3, 4]\n"
     ]
    }
   ],
   "source": [
    "# Successively breed new generations of robot controllers.\n",
    "for generation in range(1, NUMBER_OF_GENERATIONS + 1):\n",
    "    population = get_next_generation(population, fitness_scores)\n",
    "\n",
    "    # Here we apply a kind of elitist strategy by adding the best known individual from the previous population.\n",
    "    # In this way we avoid losing the best controller even if it is not selected as a candidate parent.\n",
    "    population.append(best_lookup_table)\n",
    "\n",
    "    # Create our random seeds for this round of evaluation.\n",
    "    random_seeds = [randint(-2147483648, 2147483647)\n",
    "                    for _ in range(NUMBER_OF_TRIALS_PER_EVALUATION)]\n",
    "\n",
    "    # The fitness score for the same individual could change because the evaluation is being carried out\n",
    "    # on a different set of randomly generated environments.\n",
    "    fitness_scores = [evaluate(lookup_table, random_seeds)\n",
    "                      for lookup_table in population]\n",
    "\n",
    "    best_fitness = max(fitness_scores)\n",
    "    best_lookup_table = population[fitness_scores.index(best_fitness)]\n",
    "\n",
    "    print(f'Generation: {generation}, '\n",
    "          f'Best: {max(fitness_scores):.2f}, '\n",
    "          f'Mean: {mean(fitness_scores):.2f}, '\n",
    "          f'Worst: {min(fitness_scores):.2f}, '\n",
    "          f'StDev: {stdev(fitness_scores):.2f}')\n",
    "    print(best_lookup_table)"
   ]
  },
  {
   "cell_type": "code",
   "execution_count": 7,
   "id": "46fa1160",
   "metadata": {},
   "outputs": [
    {
     "data": {
      "text/plain": [
       "'1, 1, 4, 3, 3, 3, 4, 4, 4, 0, 0, 0, 0, 0, 1, 0, 0, 0, 1, 5, 5, 5, 5, 1, 1, 5, 3, 4, 4, 4, 4, 4, 0, 2, 3, 4, 0, 0, 0, 4, 0, 5, 5, 0, 0, 5, 5, 1, 0, 3, 3, 1, 1, 2, 2, 5, 2, 3, 1, 1, 4, 6, 4, 0, 2, 0, 0, 3, 6, 3, 1, 1, 5, 3, 3, 2, 1, 2, 1, 3, 3, 2, 4, 4, 4, 1, 5, 4, 2, 4, 2, 2, 0, 0, 0, 2, 0, 0, 0, 3, 5, 1, 6, 2, 0, 5, 3, 4, 1, 1, 4, 4, 0, 4, 2, 0, 4, 4, 0, 0, 2, 4, 5, 2, 2, 0, 2, 1, 1, 4, 3, 5, 6, 3, 1, 2, 5, 2, 2, 5, 5, 5, 4, 5, 0, 5, 0, 0, 0, 1, 0, 5, 5, 1, 0, 2, 6, 5, 1, 1, 5, 5, 3, 1, 4, 3, 1, 0, 1, 1, 3, 0, 0, 5, 0, 0, 3, 0, 0, 4, 0, 3, 3, 3, 3, 0, 3, 3, 1, 3, 0, 2, 4, 1, 0, 0, 1, 6, 6, 4, 0, 1, 0, 4, 0, 6, 2, 3, 1, 3, 1, 2, 3, 2, 1, 0, 3, 6, 4, 3, 0, 4, 4, 1, 5, 0, 1, 5, 0, 6, 6, 4, 6, 3, 6, 6, 0, 2, 3, 1, 1, 5, 0'"
      ]
     },
     "execution_count": 7,
     "metadata": {},
     "output_type": "execute_result"
    }
   ],
   "source": [
    "ltr = LookupTableRobot()\n",
    "', '.join([str(v - 1) for v in ltr.action_lookup_table])"
   ]
  }
 ],
 "metadata": {
  "kernelspec": {
   "display_name": "AI-ML-Bootcamp-24-25",
   "language": "python",
   "name": "python3"
  },
  "language_info": {
   "codemirror_mode": {
    "name": "ipython",
    "version": 3
   },
   "file_extension": ".py",
   "mimetype": "text/x-python",
   "name": "python",
   "nbconvert_exporter": "python",
   "pygments_lexer": "ipython3",
   "version": "3.12.4"
  }
 },
 "nbformat": 4,
 "nbformat_minor": 5
}
