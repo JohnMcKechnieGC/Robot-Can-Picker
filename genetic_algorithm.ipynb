{
 "cells": [
  {
   "cell_type": "markdown",
   "id": "32fb1703",
   "metadata": {},
   "source": [
    "# Evolving the Robot Controller"
   ]
  },
  {
   "cell_type": "code",
   "execution_count": null,
   "id": "c74075ca",
   "metadata": {},
   "outputs": [],
   "source": [
    "from random import randint, random, sample\n",
    "import numpy as np\n",
    "import seaborn as sns\n",
    "from Problem_Domain.environment import Environment\n",
    "from Robots.lookup_table_robot import LookupTableRobot"
   ]
  },
  {
   "cell_type": "code",
   "execution_count": null,
   "id": "c3a35b60",
   "metadata": {},
   "outputs": [],
   "source": [
    "robot = LookupTableRobot()\n",
    "environment = Environment()"
   ]
  },
  {
   "cell_type": "code",
   "execution_count": null,
   "id": "ed247563",
   "metadata": {},
   "outputs": [],
   "source": [
    "LOOKUP_TABLE_SIZE = 243\n",
    "NUMBER_OF_TRIALS_PER_EVALUATION = 30\n",
    "NUMBER_OF_ACTIONS_PER_TRIAL = 200\n",
    "POPULATION_SIZE = 200\n",
    "NUMBER_OF_ELITES = 1\n",
    "NUMBER_OF_GENERATIONS = 450\n",
    "TOURNAMENT_SIZE = 4\n",
    "EXPECTED_NO_OF_MUTATIONS_PER_CHILD = 2\n",
    "MUTATION_RATE = EXPECTED_NO_OF_MUTATIONS_PER_CHILD/LOOKUP_TABLE_SIZE"
   ]
  },
  {
   "cell_type": "code",
   "execution_count": null,
   "id": "a8949a76",
   "metadata": {},
   "outputs": [],
   "source": [
    "def random_individual():\n",
    "    \"\"\"\n",
    "    Generates a random sequence of integers between 0 and 6.\n",
    "    One integer for each action in the lookup table.\n",
    "    \"\"\"\n",
    "    individual = np.random.randint(0, 7, LOOKUP_TABLE_SIZE)\n",
    "    return individual"
   ]
  },
  {
   "cell_type": "code",
   "execution_count": null,
   "id": "0857f860",
   "metadata": {},
   "outputs": [],
   "source": [
    "def select_parent(fitnesses):\n",
    "    \"\"\"\n",
    "    Uses tournament selection to select a parent from the population.\n",
    "    \"\"\"\n",
    "    candidates = sample(range(len(fitnesses)), TOURNAMENT_SIZE)\n",
    "    candidate_fitnesses = [fitnesses[i] for i in candidates]\n",
    "    selected_parent = candidates[candidate_fitnesses.index(\n",
    "        max(candidate_fitnesses))]\n",
    "    return selected_parent"
   ]
  },
  {
   "cell_type": "code",
   "execution_count": null,
   "id": "11f0e161",
   "metadata": {},
   "outputs": [],
   "source": [
    "def crossover(parent1, parent2, child1, child2):\n",
    "    \"\"\"\n",
    "    Performs single-point crossover between two parents to create two children.\n",
    "    \"\"\"\n",
    "    crossover_point = randint(0, len(parent1) - 1)\n",
    "    child1[:crossover_point] = parent1[:crossover_point]\n",
    "    child1[crossover_point:] = parent2[crossover_point:]\n",
    "    child2[:crossover_point] = parent2[:crossover_point]\n",
    "    child2[crossover_point:] = parent1[crossover_point:]"
   ]
  },
  {
   "cell_type": "code",
   "execution_count": null,
   "id": "7688ab5f",
   "metadata": {},
   "outputs": [],
   "source": [
    "def mutate(lookup_table):\n",
    "    \"\"\"\n",
    "    Mutates the lookup table by randomly changing a small number genes.\n",
    "    \"\"\"\n",
    "    for i in range(len(lookup_table)):\n",
    "        if random() < MUTATION_RATE:\n",
    "            lookup_table[i] = np.random.randint(0, 7)"
   ]
  },
  {
   "cell_type": "code",
   "execution_count": null,
   "id": "2f6b05f0",
   "metadata": {},
   "outputs": [],
   "source": [
    "def evaluate(lookup_table, seeds):\n",
    "    \"\"\"\n",
    "    Evaluates the robot behaviour by running it in the environment.\n",
    "    \"\"\"\n",
    "    robot.set_lookup_table(lookup_table)\n",
    "    robot.score = 0\n",
    "    total_score = 0\n",
    "    for i in range(NUMBER_OF_TRIALS_PER_EVALUATION):\n",
    "        environment.randomise(random_seed=seeds[i])\n",
    "        robot.set_environment(environment)\n",
    "        environment.set_robot(robot)\n",
    "        for _ in range(NUMBER_OF_ACTIONS_PER_TRIAL):\n",
    "            action = robot.choose_action()\n",
    "            environment.perform_action(action)\n",
    "            if environment.number_of_cans == 0:\n",
    "                break\n",
    "        total_score += robot.score\n",
    "    return total_score / NUMBER_OF_TRIALS_PER_EVALUATION"
   ]
  },
  {
   "cell_type": "code",
   "execution_count": null,
   "id": "e530b938",
   "metadata": {},
   "outputs": [],
   "source": [
    "def get_next_generation(population, current, next, fitnesses, best_from_previous_generation):\n",
    "    \"\"\"\n",
    "    Generates the next generation of the population using,\n",
    "    selection, crossover, and mutation.\n",
    "    \"\"\"\n",
    "    i = 0\n",
    "    # currently assumes that NUMBER_OF_ELITES = 1\n",
    "    population[i][next] = best_from_previous_generation\n",
    "    while i < POPULATION_SIZE:\n",
    "        parent1 = population[select_parent(fitnesses)][current]\n",
    "        parent2 = population[select_parent(fitnesses)][current]\n",
    "        child1 = population[i + 1][next]\n",
    "        child2 = population[i + 2][next]\n",
    "        crossover(parent1, parent2, child1, child2)\n",
    "        mutate(child1)\n",
    "        mutate(child2)\n",
    "        i += 2"
   ]
  },
  {
   "cell_type": "markdown",
   "id": "36190c7d",
   "metadata": {},
   "source": [
    "## Generate the initial random population"
   ]
  },
  {
   "cell_type": "markdown",
   "id": "d817da36",
   "metadata": {},
   "source": [
    "First create an uninitialised 3D array. The dimensions are:\n",
    "- Total individuals in the population\n",
    "- Current/next generation (size 2)\n",
    "- Size of lookup table"
   ]
  },
  {
   "cell_type": "code",
   "execution_count": null,
   "id": "0297a993",
   "metadata": {},
   "outputs": [],
   "source": [
    "population = np.empty((POPULATION_SIZE + NUMBER_OF_ELITES,\n",
    "                       2,\n",
    "                       LOOKUP_TABLE_SIZE), dtype=int)\n",
    "\n",
    "current, next = 0, 1"
   ]
  },
  {
   "cell_type": "markdown",
   "id": "3af2115d",
   "metadata": {},
   "source": [
    "Initialise the current population to a collection of randomly generated individuals."
   ]
  },
  {
   "cell_type": "code",
   "execution_count": null,
   "id": "be9a690f",
   "metadata": {},
   "outputs": [],
   "source": [
    "for i in range(POPULATION_SIZE + NUMBER_OF_ELITES):\n",
    "    population[i][current] = random_individual()"
   ]
  },
  {
   "cell_type": "markdown",
   "id": "dedd1e72",
   "metadata": {},
   "source": [
    "Create an empty array to store the fitness scores."
   ]
  },
  {
   "cell_type": "code",
   "execution_count": null,
   "id": "db245041",
   "metadata": {},
   "outputs": [],
   "source": [
    "fitness_scores = np.empty(POPULATION_SIZE + NUMBER_OF_ELITES, dtype=float)"
   ]
  },
  {
   "cell_type": "markdown",
   "id": "c1dbe194",
   "metadata": {},
   "source": [
    "Create a set of random seeds. This ensures that all individuals will be evaluated on the same set of randomly generated environments. The seeds will be changed every generation to avoid overfitting on a particular set of environments."
   ]
  },
  {
   "cell_type": "code",
   "execution_count": null,
   "id": "17fb3757",
   "metadata": {},
   "outputs": [],
   "source": [
    "def get_random_seeds():\n",
    "    return [randint(-2147483648, 2147483647)\n",
    "            for _ in range(NUMBER_OF_TRIALS_PER_EVALUATION)]"
   ]
  },
  {
   "cell_type": "markdown",
   "id": "dd9345fe",
   "metadata": {},
   "source": [
    "Calculate the fitness scores for each member of the population."
   ]
  },
  {
   "cell_type": "code",
   "execution_count": null,
   "id": "0c52f0b5",
   "metadata": {},
   "outputs": [],
   "source": [
    "for i in range(POPULATION_SIZE + NUMBER_OF_ELITES):\n",
    "    fitness_scores[i] = evaluate(population[i][current], get_random_seeds())"
   ]
  },
  {
   "cell_type": "markdown",
   "id": "9a00eb81",
   "metadata": {},
   "source": [
    "Create lists to store the best and mean fitness for each generation. We'll graph these values later."
   ]
  },
  {
   "cell_type": "code",
   "execution_count": null,
   "id": "8a8c0b17",
   "metadata": {},
   "outputs": [],
   "source": [
    "best_fitnesses = []\n",
    "mean_fitnesses = []"
   ]
  },
  {
   "cell_type": "markdown",
   "id": "9613a156",
   "metadata": {},
   "source": [
    "Record the best and mean fitness of the initial population."
   ]
  },
  {
   "cell_type": "code",
   "execution_count": null,
   "id": "7af136e1",
   "metadata": {},
   "outputs": [],
   "source": [
    "def update_stats():\n",
    "    best_fitnesses.append(fitness_scores.max())\n",
    "    mean_fitnesses.append(fitness_scores.mean())"
   ]
  },
  {
   "cell_type": "code",
   "execution_count": null,
   "id": "65cae60c",
   "metadata": {},
   "outputs": [],
   "source": [
    "update_stats()"
   ]
  },
  {
   "cell_type": "code",
   "execution_count": null,
   "id": "febb1ae6",
   "metadata": {},
   "outputs": [],
   "source": [
    "print(f'Best fitness in initial population: {best_fitnesses[-1]}')"
   ]
  },
  {
   "cell_type": "markdown",
   "id": "66a95b79",
   "metadata": {},
   "source": [
    "Find the best individual in the initial population."
   ]
  },
  {
   "cell_type": "code",
   "execution_count": null,
   "id": "7d486a56",
   "metadata": {},
   "outputs": [],
   "source": [
    "best_lookup_table = population[np.argmax(fitness_scores)][current]"
   ]
  },
  {
   "cell_type": "markdown",
   "id": "8490cbd0",
   "metadata": {},
   "source": [
    "## Evolve the Simulated Robot Controller"
   ]
  },
  {
   "cell_type": "markdown",
   "id": "84b20302",
   "metadata": {},
   "source": [
    "Successively breed new generations of robot controllers."
   ]
  },
  {
   "cell_type": "code",
   "execution_count": null,
   "id": "bd9bce9b",
   "metadata": {},
   "outputs": [],
   "source": [
    "for generation in range(1, NUMBER_OF_GENERATIONS + 1):\n",
    "    print(\n",
    "        f'Generation {generation} of {NUMBER_OF_GENERATIONS}, best so far: {best_fitnesses[-1]}...',\n",
    "        end=\"\\r\")\n",
    "    \n",
    "    get_next_generation(\n",
    "        population,\n",
    "        current,\n",
    "        next,\n",
    "        fitness_scores,\n",
    "        best_lookup_table)\n",
    "    \n",
    "    # Toggle the current and next generations\n",
    "    current, next = next, current\n",
    "\n",
    "    # The fitness score for the same individual could change because the evaluation\n",
    "    # is being carried out on a different set of randomly generated environments.\n",
    "    random_seeds = get_random_seeds()\n",
    "    for i in range(POPULATION_SIZE):\n",
    "       fitness_scores[i] = evaluate(population[i][current], random_seeds)\n",
    "\n",
    "    update_stats()\n",
    "    best_lookup_table = population[np.argmax(fitness_scores)][current]"
   ]
  },
  {
   "cell_type": "markdown",
   "id": "1ddb8adc",
   "metadata": {},
   "source": [
    "## Plot the Maximum and Mean Fitness for Each Generation"
   ]
  },
  {
   "cell_type": "code",
   "execution_count": null,
   "id": "97fb3921",
   "metadata": {},
   "outputs": [],
   "source": [
    "sns.lineplot(\n",
    "    x=range(NUMBER_OF_GENERATIONS + 1),\n",
    "    y=best_fitnesses, label='Best')\n",
    "\n",
    "sns.lineplot(\n",
    "    x=range(NUMBER_OF_GENERATIONS + 1),\n",
    "    y=mean_fitnesses, label='Mean')"
   ]
  },
  {
   "cell_type": "markdown",
   "id": "7060c277",
   "metadata": {},
   "source": [
    "## Show the Best Solution Found\n",
    "This can be copied and pasted as the default lookup tabe in LookupTableRobot. "
   ]
  },
  {
   "cell_type": "code",
   "execution_count": null,
   "id": "5d95cbac",
   "metadata": {},
   "outputs": [],
   "source": [
    "print(f'\\nBest fitness: {best_fitnesses[-1]}')\n",
    "print(list(best_lookup_table))"
   ]
  }
 ],
 "metadata": {
  "kernelspec": {
   "display_name": "AI-ML-Bootcamp-24-25",
   "language": "python",
   "name": "python3"
  },
  "language_info": {
   "codemirror_mode": {
    "name": "ipython",
    "version": 3
   },
   "file_extension": ".py",
   "mimetype": "text/x-python",
   "name": "python",
   "nbconvert_exporter": "python",
   "pygments_lexer": "ipython3",
   "version": "3.12.3"
  }
 },
 "nbformat": 4,
 "nbformat_minor": 5
}
